{
  "cells": [
    {
      "cell_type": "code",
      "execution_count": 1,
      "metadata": {
        "colab": {
          "base_uri": "https://localhost:8080/"
        },
        "id": "8GHc5YhGHSTN",
        "outputId": "d527946d-ee2f-4f15-e850-72f87ac3ed9a"
      },
      "outputs": [
        {
          "output_type": "stream",
          "name": "stdout",
          "text": [
            "Mounted at /content/drive\n"
          ]
        }
      ],
      "source": [
        "from google.colab import drive\n",
        "drive.mount('/content/drive')"
      ]
    },
    {
      "cell_type": "code",
      "execution_count": 2,
      "metadata": {
        "id": "8Ncb5xPXHcbg"
      },
      "outputs": [],
      "source": [
        "import os\n",
        "loc = 'drive/My Drive/Signature_Verification'"
      ]
    },
    {
      "cell_type": "code",
      "execution_count": 3,
      "metadata": {
        "id": "3z6kkZMyHlhD"
      },
      "outputs": [],
      "source": [
        "import tensorflow as tf\n",
        "import matplotlib.pyplot as plt\n",
        "import numpy as np\n",
        "import random\n",
        "from scipy import stats\n",
        "\n",
        "from data_processing import *\n",
        "\n",
        "from tensorflow.keras.layers import BatchNormalization\n",
        "from tensorflow.keras.layers import MaxPooling2D\n",
        "from tensorflow.keras.layers import ZeroPadding2D\n",
        "from tensorflow.keras.layers import Dropout\n",
        "\n",
        "\n",
        "from tensorflow.keras.models import Sequential\n",
        "from tensorflow.keras.optimizers import Adam, RMSprop\n",
        "from tensorflow.keras.layers import Conv2D, ZeroPadding2D, Activation, Input, concatenate, Dropout\n",
        "from tensorflow.keras.layers import BatchNormalization, MaxPool2D,Concatenate,Lambda,Flatten,Dense\n",
        "from tensorflow.keras.initializers import glorot_uniform\n",
        "\n",
        "from tensorflow.keras.models import Model\n",
        "\n",
        "from tensorflow.keras.regularizers import l2\n",
        "from tensorflow.keras import backend as K\n",
        "from tensorflow.keras.callbacks import EarlyStopping, ModelCheckpoint, ReduceLROnPlateau\n",
        "\n",
        "%matplotlib inline"
      ]
    },
    {
      "cell_type": "code",
      "execution_count": null,
      "metadata": {
        "colab": {
          "base_uri": "https://localhost:8080/"
        },
        "id": "4MZ2jS_ftXRw",
        "outputId": "0cf482e3-4ae1-455b-eb0e-578a2bc7340c"
      },
      "outputs": [
        {
          "output_type": "execute_result",
          "data": {
            "text/plain": [
              "['.config',\n",
              " '__pycache__',\n",
              " '.ipynb_checkpoints',\n",
              " 'BHSig260.zip',\n",
              " 'lossval_loss_3.png',\n",
              " 'drive',\n",
              " 'data_processing.py',\n",
              " 'sample_data']"
            ]
          },
          "metadata": {},
          "execution_count": 38
        }
      ],
      "source": [
        "os.listdir()"
      ]
    },
    {
      "cell_type": "markdown",
      "metadata": {
        "id": "nubdXr6olh8o"
      },
      "source": [
        "# Dataset Generation"
      ]
    },
    {
      "cell_type": "markdown",
      "metadata": {
        "id": "qN1Ln6hWlEam"
      },
      "source": [
        "## Importing Data"
      ]
    },
    {
      "cell_type": "code",
      "execution_count": 4,
      "metadata": {
        "id": "mC9CV3F8IDxN"
      },
      "outputs": [],
      "source": [
        "imgsize = (150,150)\n",
        "size= 150\n",
        "path_dataset1 = os.path.join(loc,'Signature_Set1')\n",
        "path_dataset2 = os.path.join(loc,'Signature_Set2')\n",
        "path_dataset3 = os.path.join(loc,'Signature_Set3') \n",
        "path_dataset4 = os.path.join(loc,'Signature_Set4')\n",
        "images_dictionary = {} # This dictionary stores all the images, to avoid too much memory consumption"
      ]
    },
    {
      "cell_type": "code",
      "execution_count": null,
      "metadata": {
        "id": "ZqsmculNnGFK"
      },
      "outputs": [],
      "source": [
        "# Para las FORMAS  se debe comentar esta sección de código.\n",
        "\n",
        "fname = 'BHSig260.zip'"
      ]
    },
    {
      "cell_type": "markdown",
      "metadata": {
        "id": "L-YBPxlhkha8"
      },
      "source": [
        "### Dataset from Set-1"
      ]
    },
    {
      "cell_type": "code",
      "execution_count": 5,
      "metadata": {
        "colab": {
          "base_uri": "https://localhost:8080/"
        },
        "id": "m26B8JUxISe9",
        "outputId": "353f6cf4-ae30-426e-e08a-c4c69f351bd4"
      },
      "outputs": [
        {
          "output_type": "stream",
          "name": "stdout",
          "text": [
            "Getting Dataset-1 Data and Saving inside the Dictionary..\n",
            "Getting Genuine Images..\n",
            "25% Completed..\n",
            "50% Completed..\n",
            "100% Completed\n",
            "Getting Forged Images..\n",
            "25% Completed..\n",
            "50% Completed..\n",
            "100% Completed\n",
            "600 600 600\n"
          ]
        }
      ],
      "source": [
        "real_img,forged_img = getImages(path_dataset1,imgsize,images_dictionary)\n",
        "real_img = np.sort(real_img)\n",
        "forged_img = np.sort(forged_img)\n",
        "set1_X1,set1_X2,set1_Y = makePairs(real_img,forged_img,5)\n",
        "print(len(set1_X1),len(set1_X2),len(set1_Y))"
      ]
    },
    {
      "cell_type": "markdown",
      "metadata": {
        "id": "HI8p60FdMsIK"
      },
      "source": [
        "### Dataset from Set-2"
      ]
    },
    {
      "cell_type": "code",
      "execution_count": 6,
      "metadata": {
        "colab": {
          "base_uri": "https://localhost:8080/"
        },
        "id": "lnSg-TlkMuJM",
        "outputId": "aa07d73d-7044-43a5-cc42-80829383af57"
      },
      "outputs": [
        {
          "output_type": "stream",
          "name": "stdout",
          "text": [
            "Getting Dataset2 Data..\n",
            "25% Completed..\n",
            "50% Completed..\n",
            "Couldn't import  Thumbs.db in Location: drive/My Drive/Signature_Verification/Signature_Set2/full_org\n",
            "100% Completed\n",
            "25% Completed..\n",
            "50% Completed..\n",
            "Couldn't import  Thumbs.db in Location: drive/My Drive/Signature_Verification/Signature_Set2/full_forg\n",
            "100% Completed\n",
            "Data Import Complete!\n",
            "30360 30360 30360\n"
          ]
        }
      ],
      "source": [
        "real_img,forged_img = getImages2(path_dataset2,imgsize,images_dictionary)\n",
        "real_img = np.sort(real_img)\n",
        "forged_img = np.sort(forged_img)\n",
        "set2_X1,set2_X2,set2_Y = makePairs(real_img,forged_img,24)\n",
        "print(len(set2_X1),len(set2_X2),len(set2_Y))"
      ]
    },
    {
      "cell_type": "markdown",
      "metadata": {
        "id": "aunbqAGHko1_"
      },
      "source": [
        "### Dataset from Set-3"
      ]
    },
    {
      "cell_type": "code",
      "execution_count": null,
      "metadata": {
        "colab": {
          "base_uri": "https://localhost:8080/"
        },
        "id": "Z7yYGlrTnGI0",
        "outputId": "a3ebd711-748a-4916-e03f-807407c34cd4"
      },
      "outputs": [
        {
          "output_type": "stream",
          "name": "stdout",
          "text": [
            "Getting Genuine Data..\n",
            "25% Complete\n",
            "50% Complete\n",
            "75% Complete\n",
            "100% Complete\n",
            "Getting Forged Data..\n",
            "25% Complete\n",
            "50% Complete\n",
            "75% Complete\n",
            "100% Complete\n"
          ]
        }
      ],
      "source": [
        "#FORMAS 2 Y 3:\n",
        "real,forged = getHindi(fname,imgsize,images_dictionary)\n",
        "X1H,X2H,yH  = makeHindiPairs(real,forged)"
      ]
    },
    {
      "cell_type": "markdown",
      "metadata": {
        "id": "cdpf7Nn1X7Bj"
      },
      "source": [
        "### Dataset from Set-4"
      ]
    },
    {
      "cell_type": "code",
      "source": [
        "#FORMAS 3 Y 4: \n",
        "real_img,forged_img = getImages4(path_dataset4,imgsize,images_dictionary)\n",
        "real_img = np.sort(real_img)\n",
        "forged_img = np.sort(forged_img)\n",
        "set4_X1,set4_X2,set4_Y = makePairs(real_img,forged_img,12)\n",
        "print(len(set4_X1),len(set4_X2),len(set4_Y))"
      ],
      "metadata": {
        "id": "SB41AFnVX5nX",
        "colab": {
          "base_uri": "https://localhost:8080/"
        },
        "outputId": "135592a6-de0d-44bb-f479-7bb819324c48"
      },
      "execution_count": null,
      "outputs": [
        {
          "output_type": "stream",
          "name": "stdout",
          "text": [
            "Getting Dataset 4 Data..\n",
            "25% Completed..\n",
            "50% Completed..\n",
            "100% Completed\n",
            "25% Completed..\n",
            "50% Completed..\n",
            "100% Completed\n",
            "Data Import Complete!\n",
            "7128 7128 7128\n"
          ]
        }
      ]
    },
    {
      "cell_type": "markdown",
      "metadata": {
        "id": "NpY_ncIekzjP"
      },
      "source": [
        "Joining the Set2 and Set3 Datasets"
      ]
    },
    {
      "cell_type": "code",
      "execution_count": null,
      "metadata": {
        "colab": {
          "base_uri": "https://localhost:8080/"
        },
        "id": "KxWcz-CUM-52",
        "outputId": "3b204caf-11b7-4fae-e392-3e1b8993315a"
      },
      "outputs": [
        {
          "output_type": "stream",
          "name": "stdout",
          "text": [
            "37488 37488 37488\n"
          ]
        }
      ],
      "source": [
        "#OMITIR PARA LA FORMA 1:\n",
        "X1 = np.concatenate([set2_X1, set4_X1])\n",
        "X2 = np.concatenate([set2_X2, set4_X2])\n",
        "Y  = np.concatenate([set2_Y, set4_Y])\n",
        "print(len(X1),len(X2),len(Y))"
      ]
    },
    {
      "cell_type": "markdown",
      "metadata": {
        "id": "2HgX0xvuH8Ts"
      },
      "source": [
        "#### Shuffling Data"
      ]
    },
    {
      "cell_type": "code",
      "execution_count": null,
      "metadata": {
        "id": "xjpQakLlH7gS"
      },
      "outputs": [],
      "source": [
        "#OMITIR PARA LA FORMA 1:\n",
        "import random\n",
        "random.seed=35\n",
        "mapIndexPosition = list(zip(X1,X2,Y))\n",
        "random.shuffle(mapIndexPosition)\n",
        "X1,X2,Y = zip(*mapIndexPosition)\n",
        "Y = tf.cast(Y, tf.float32)"
      ]
    },
    {
      "cell_type": "code",
      "execution_count": 7,
      "metadata": {
        "id": "owCJbO7uOXdj",
        "colab": {
          "base_uri": "https://localhost:8080/"
        },
        "outputId": "60cc9c43-9aca-4106-ea15-6782ee563db7"
      },
      "outputs": [
        {
          "output_type": "stream",
          "name": "stdout",
          "text": [
            "24288 24288 24288 6072 6072 6072\n"
          ]
        }
      ],
      "source": [
        "#FORMA 1: Entrenamiento únicamente con CEDAR\n",
        "X1_train = set2_X1[0:24288]\n",
        "X2_train = set2_X2[0:24288]\n",
        "Y_train  = set2_Y[0:24288]\n",
        "X1_val   = set2_X1[24288:]\n",
        "X2_val   = set2_X2[24288:]\n",
        "Y_val    = set2_Y[24288:]\n",
        "#FORMA 2: Entrenamiento con CEDAR + BHSig260\n",
        "#X1_train = X1[0:173720]\n",
        "#X2_train = X2[0:173720]\n",
        "#Y_train  = Y[0:173720]\n",
        "#X1_val   = X1[173720:]\n",
        "#X2_val   = X2[173720:]\n",
        "#Y_val    = Y[173720:]\n",
        "#FORMA 3: Entrenamiento con CEDAR + BHSig260 + SigComp2011\n",
        "#X1_train = X1[0:164040]\n",
        "#X2_train = X2[0:164040]\n",
        "#Y_train  = Y[0:164040]\n",
        "#X1_val   = X1[164040:]\n",
        "#X2_val   = X2[164040:]\n",
        "#Y_val    = Y[164040:]\n",
        "#FORMA 4: Entrenamiento con CEDAR + SigComp2011\n",
        "#X1_train = X1[0:31488]\n",
        "#X2_train = X2[0:31488]\n",
        "#Y_train  = Y[0:31488]\n",
        "#X1_val   = X1[31488:]\n",
        "#X2_val   = X2[31488:]\n",
        "#Y_val    = Y[31488:]\n",
        "print(len(X1_train),len(X2_train),len(Y_train),len(X1_val),len(X2_val),len(Y_val))"
      ]
    },
    {
      "cell_type": "markdown",
      "metadata": {
        "id": "c1p4VXxwxKro"
      },
      "source": [
        "## Generating Data"
      ]
    },
    {
      "cell_type": "code",
      "execution_count": 8,
      "metadata": {
        "id": "gQSCp872IiBP"
      },
      "outputs": [],
      "source": [
        "def create_batch(x1,x2,startpoint,batch_size):\n",
        "    fir=np.zeros((batch_size,imgsize[0],imgsize[0],1))\n",
        "    sec=np.zeros((batch_size,imgsize[0],imgsize[0],1))\n",
        "    counter=0\n",
        "    for i in range(startpoint,startpoint+batch_size):\n",
        "        fir[counter]=images_dictionary[x1[i]]\n",
        "        sec[counter]=images_dictionary[x2[i]]\n",
        "        counter+=1\n",
        "    return fir,sec"
      ]
    },
    {
      "cell_type": "code",
      "execution_count": 9,
      "metadata": {
        "id": "NlZS9pRq4Pn7"
      },
      "outputs": [],
      "source": [
        "# Function takes in input of array of names, and returns the image list with expanded dimenstions\n",
        "def returnImageList(name_lis):\n",
        "    length = len(name_lis)\n",
        "    imgs = np.zeros((length,imgsize[0],imgsize[0],1))\n",
        "    for i in range(0,length):\n",
        "        imgs[i] = images_dictionary[name_lis[i]]\n",
        "    return imgs"
      ]
    },
    {
      "cell_type": "code",
      "execution_count": 10,
      "metadata": {
        "id": "7R-1-IZO4T5e"
      },
      "outputs": [],
      "source": [
        "def data_generator(batch_size,x1,x2,y):\n",
        "    counter=0\n",
        "    while True:\n",
        "        if counter>=len(y): counter=0\n",
        "        a,b = create_batch(x1,x2,counter,batch_size)\n",
        "        y1 = y[counter:counter+batch_size]\n",
        "        counter+=batch_size\n",
        "        yield [a,b],y1"
      ]
    },
    {
      "cell_type": "markdown",
      "metadata": {
        "id": "On9SHcf6llhj"
      },
      "source": [
        "# Preparing the Model"
      ]
    },
    {
      "cell_type": "markdown",
      "metadata": {
        "id": "WyZZA61LyyCw"
      },
      "source": [
        "### Embedding Model"
      ]
    },
    {
      "cell_type": "code",
      "execution_count": 11,
      "metadata": {
        "colab": {
          "base_uri": "https://localhost:8080/"
        },
        "id": "OxxyWMAYybKn",
        "outputId": "12a4d8dd-28c1-44dd-ecf6-bf3b391448c7"
      },
      "outputs": [
        {
          "output_type": "stream",
          "name": "stdout",
          "text": [
            "Model: \"embedding_model\"\n",
            "_________________________________________________________________\n",
            " Layer (type)                Output Shape              Param #   \n",
            "=================================================================\n",
            " Layer1 (Conv2D)             (None, 148, 148, 64)      640       \n",
            "                                                                 \n",
            " leaky_re_lu (LeakyReLU)     (None, 148, 148, 64)      0         \n",
            "                                                                 \n",
            " batch_normalization (BatchN  (None, 148, 148, 64)     592       \n",
            " ormalization)                                                   \n",
            "                                                                 \n",
            " max_pooling2d (MaxPooling2D  (None, 74, 74, 64)       0         \n",
            " )                                                               \n",
            "                                                                 \n",
            " Layer2 (Conv2D)             (None, 72, 72, 128)       73856     \n",
            "                                                                 \n",
            " leaky_re_lu_1 (LeakyReLU)   (None, 72, 72, 128)       0         \n",
            "                                                                 \n",
            " batch_normalization_1 (Batc  (None, 72, 72, 128)      288       \n",
            " hNormalization)                                                 \n",
            "                                                                 \n",
            " max_pooling2d_1 (MaxPooling  (None, 36, 36, 128)      0         \n",
            " 2D)                                                             \n",
            "                                                                 \n",
            " dropout (Dropout)           (None, 36, 36, 128)       0         \n",
            "                                                                 \n",
            " Layer3 (Conv2D)             (None, 34, 34, 256)       295168    \n",
            "                                                                 \n",
            " leaky_re_lu_2 (LeakyReLU)   (None, 34, 34, 256)       0         \n",
            "                                                                 \n",
            " batch_normalization_2 (Batc  (None, 34, 34, 256)      136       \n",
            " hNormalization)                                                 \n",
            "                                                                 \n",
            " max_pooling2d_2 (MaxPooling  (None, 8, 8, 256)        0         \n",
            " 2D)                                                             \n",
            "                                                                 \n",
            " dropout_1 (Dropout)         (None, 8, 8, 256)         0         \n",
            "                                                                 \n",
            " Layer4 (Conv2D)             (None, 6, 6, 512)         1180160   \n",
            "                                                                 \n",
            " leaky_re_lu_3 (LeakyReLU)   (None, 6, 6, 512)         0         \n",
            "                                                                 \n",
            " batch_normalization_3 (Batc  (None, 6, 6, 512)        24        \n",
            " hNormalization)                                                 \n",
            "                                                                 \n",
            " max_pooling2d_3 (MaxPooling  (None, 1, 1, 512)        0         \n",
            " 2D)                                                             \n",
            "                                                                 \n",
            " dropout_2 (Dropout)         (None, 1, 1, 512)         0         \n",
            "                                                                 \n",
            " Layer5 (Conv2D)             (None, 1, 1, 512)         262656    \n",
            "                                                                 \n",
            " leaky_re_lu_4 (LeakyReLU)   (None, 1, 1, 512)         0         \n",
            "                                                                 \n",
            " flatten (Flatten)           (None, 512)               0         \n",
            "                                                                 \n",
            "=================================================================\n",
            "Total params: 1,813,520\n",
            "Trainable params: 1,813,000\n",
            "Non-trainable params: 520\n",
            "_________________________________________________________________\n",
            "None\n"
          ]
        }
      ],
      "source": [
        "emb_dim = 64\n",
        "\n",
        "embedding_model = tf.keras.models.Sequential([\n",
        "  tf.keras.layers.Conv2D(64, (3,3), input_shape=(size,size,1),name='Layer1'),\n",
        "  tf.keras.layers.LeakyReLU(),\n",
        "  tf.keras.layers.BatchNormalization(epsilon=1e-06, axis=1, momentum=0.9),\n",
        "  tf.keras.layers.MaxPooling2D(2, 2),\n",
        "  #tf.keras.layers.Dropout(0.2),\n",
        "    \n",
        "  tf.keras.layers.Conv2D(128, (3,3),name='Layer2'),\n",
        "  tf.keras.layers.LeakyReLU(),\n",
        "  tf.keras.layers.BatchNormalization(epsilon=1e-06, axis=1, momentum=0.9),\n",
        "  tf.keras.layers.MaxPooling2D(2, 2),\n",
        "  tf.keras.layers.Dropout(0.1),\n",
        "    \n",
        "  tf.keras.layers.Conv2D(256, (3,3),name='Layer3'),\n",
        "  tf.keras.layers.LeakyReLU(),\n",
        "  tf.keras.layers.BatchNormalization(epsilon=1e-06, axis=1, momentum=0.9),\n",
        "  tf.keras.layers.MaxPooling2D(4, 4),\n",
        "  tf.keras.layers.Dropout(0.2),\n",
        "\n",
        "  tf.keras.layers.Conv2D(512, (3,3),name='Layer4'),\n",
        "  tf.keras.layers.LeakyReLU(),\n",
        "  tf.keras.layers.BatchNormalization(epsilon=1e-06, axis=1, momentum=0.9),\n",
        "  tf.keras.layers.MaxPooling2D(4, 4),\n",
        "  tf.keras.layers.Dropout(0.1),\n",
        "\n",
        "  tf.keras.layers.Conv2D(512, (1,1),name='Layer5'),\n",
        "  tf.keras.layers.LeakyReLU(),\n",
        "  tf.keras.layers.Flatten(),\n",
        "],name='embedding_model')\n",
        "print(embedding_model.summary())"
      ]
    },
    {
      "cell_type": "markdown",
      "metadata": {
        "id": "z5PjAnSo0HOY"
      },
      "source": [
        "### Siamese-Type Network"
      ]
    },
    {
      "cell_type": "code",
      "execution_count": 12,
      "metadata": {
        "colab": {
          "base_uri": "https://localhost:8080/"
        },
        "id": "T8AYxfwzz6Gp",
        "outputId": "d4f5241c-42bb-484c-fb50-60b9d89ae130"
      },
      "outputs": [
        {
          "output_type": "stream",
          "name": "stdout",
          "text": [
            "Model: \"model\"\n",
            "__________________________________________________________________________________________________\n",
            " Layer (type)                   Output Shape         Param #     Connected to                     \n",
            "==================================================================================================\n",
            " input1 (InputLayer)            [(None, 150, 150, 1  0           []                               \n",
            "                                )]                                                                \n",
            "                                                                                                  \n",
            " input2 (InputLayer)            [(None, 150, 150, 1  0           []                               \n",
            "                                )]                                                                \n",
            "                                                                                                  \n",
            " embedding_model (Sequential)   (None, 512)          1813520     ['input1[0][0]',                 \n",
            "                                                                  'input2[0][0]']                 \n",
            "                                                                                                  \n",
            " concatenate (Concatenate)      (None, 1024)         0           ['embedding_model[0][0]',        \n",
            "                                                                  'embedding_model[1][0]']        \n",
            "                                                                                                  \n",
            " dense (Dense)                  (None, 512)          524800      ['concatenate[0][0]']            \n",
            "                                                                                                  \n",
            " dense_1 (Dense)                (None, 64)           32832       ['dense[0][0]']                  \n",
            "                                                                                                  \n",
            " Output (Dense)                 (None, 1)            65          ['dense_1[0][0]']                \n",
            "                                                                                                  \n",
            "==================================================================================================\n",
            "Total params: 2,371,217\n",
            "Trainable params: 2,370,697\n",
            "Non-trainable params: 520\n",
            "__________________________________________________________________________________________________\n",
            "None\n"
          ]
        }
      ],
      "source": [
        "input_a = tf.keras.layers.Input(shape=(size,size,1),name='input1')\n",
        "input_b = tf.keras.layers.Input(shape=(size,size,1),name='input2')\n",
        "\n",
        "em_one = embedding_model(input_a)\n",
        "em_two = embedding_model(input_b)\n",
        "\n",
        "out = tf.keras.layers.concatenate([em_one,em_two],axis=1)\n",
        "out = tf.keras.layers.Dense(512,activation='relu',kernel_regularizer=tf.keras.regularizers.l2(l=0.1))(out)\n",
        "out = tf.keras.layers.Dense(64,activation='relu')(out)\n",
        "\n",
        "out = tf.keras.layers.Dense(1,activation='sigmoid',name='Output')(out)\n",
        "\n",
        "model = tf.keras.models.Model([input_a, input_b],out)\n",
        "print(model.summary())"
      ]
    },
    {
      "cell_type": "markdown",
      "metadata": {
        "id": "MOt6_79Pmv34"
      },
      "source": [
        "### Learning Rate Scheduling"
      ]
    },
    {
      "cell_type": "code",
      "execution_count": 13,
      "metadata": {
        "id": "7KYU-tH_mvHx"
      },
      "outputs": [],
      "source": [
        "initial_learning_rate = 0.0008\n",
        "lr_schedule = tf.keras.optimizers.schedules.ExponentialDecay(\n",
        "    initial_learning_rate=initial_learning_rate,\n",
        "    decay_steps=5, \n",
        "    decay_rate=0.96,\n",
        "    staircase=True\n",
        ") #lr = lr * (decay_rate ^ decay_steps)\n",
        "optimizer= tf.keras.optimizers.RMSprop(learning_rate=lr_schedule)"
      ]
    },
    {
      "cell_type": "code",
      "execution_count": 14,
      "metadata": {
        "id": "KzH2UaZj16jm",
        "colab": {
          "base_uri": "https://localhost:8080/"
        },
        "outputId": "67f94188-0e99-4082-b78f-707d1e81e1f3"
      },
      "outputs": [
        {
          "output_type": "stream",
          "name": "stderr",
          "text": [
            "/usr/local/lib/python3.7/dist-packages/keras/optimizer_v2/rmsprop.py:130: UserWarning: The `lr` argument is deprecated, use `learning_rate` instead.\n",
            "  super(RMSprop, self).__init__(name, **kwargs)\n"
          ]
        }
      ],
      "source": [
        "batch_size = 8\n",
        "epoch = 4\n",
        "rms = tf.keras.optimizers.RMSprop(lr=1e-4, rho=0.9, epsilon=1e-08)\n",
        "model.compile(loss='binary_crossentropy', optimizer=optimizer,metrics=['accuracy'])"
      ]
    },
    {
      "cell_type": "code",
      "execution_count": 15,
      "metadata": {
        "colab": {
          "base_uri": "https://localhost:8080/"
        },
        "id": "FRGEJ5R95K5h",
        "outputId": "09af843e-8207-4dfa-b704-f172c1d68335"
      },
      "outputs": [
        {
          "output_type": "stream",
          "name": "stdout",
          "text": [
            "Epoch 1/4\n",
            "3036/3036 [==============================] - 341s 109ms/step - loss: 1.2699 - accuracy: 0.7050 - val_loss: 1.0553 - val_accuracy: 0.6915\n",
            "Epoch 2/4\n",
            "3036/3036 [==============================] - 329s 108ms/step - loss: 0.7549 - accuracy: 0.7257 - val_loss: 1.0562 - val_accuracy: 0.6914\n",
            "Epoch 3/4\n",
            "3036/3036 [==============================] - 343s 113ms/step - loss: 0.7539 - accuracy: 0.7281 - val_loss: 1.0552 - val_accuracy: 0.6917\n",
            "Epoch 4/4\n",
            "3036/3036 [==============================] - 329s 108ms/step - loss: 0.7541 - accuracy: 0.7260 - val_loss: 1.0543 - val_accuracy: 0.6912\n"
          ]
        }
      ],
      "source": [
        "history =model.fit(\n",
        "    data_generator(batch_size,X1_train,X2_train,Y_train),\n",
        "    epochs=epoch,\n",
        "    steps_per_epoch=len(Y_train) // batch_size,\n",
        "    validation_data=data_generator(batch_size,X1_val,X2_val,Y_val),\n",
        "    validation_steps = len(Y_val) // batch_size,\n",
        "    verbose=1\n",
        ")"
      ]
    },
    {
      "cell_type": "markdown",
      "source": [
        "# Plotting the Accuracy and Losses\n",
        "\n"
      ],
      "metadata": {
        "id": "yI2qGw_vo2gs"
      }
    },
    {
      "cell_type": "code",
      "source": [
        "plt.figure(figsize=(10,7))\n",
        "plt.plot(history.history['loss'], label='train loss')\n",
        "plt.plot(history.history['val_loss'], label='val loss')\n",
        "plt.plot(history.history['accuracy'], label='train_acc')\n",
        "plt.plot(history.history['val_accuracy'], label='val_acc')\n",
        "plt.title(\"Training Loss and Accuracy on CEDAR + SigComp2011 Signature Dataset\")\n",
        "plt.legend()\n",
        "plt.show()\n",
        "plt.savefig('lossval_loss_3')"
      ],
      "metadata": {
        "id": "TRaqQp1Fq19L",
        "colab": {
          "base_uri": "https://localhost:8080/",
          "height": 461
        },
        "outputId": "8d42580d-bcb1-44a1-ffdf-3396dd8adaee"
      },
      "execution_count": null,
      "outputs": [
        {
          "output_type": "display_data",
          "data": {
            "image/png": "[encoded data removed]",
            "text/plain": [
              "<Figure size 720x504 with 1 Axes>"
            ]
          },
          "metadata": {
            "needs_background": "light"
          }
        },
        {
          "output_type": "display_data",
          "data": {
            "text/plain": [
              "<Figure size 432x288 with 0 Axes>"
            ]
          },
          "metadata": {}
        }
      ]
    },
    {
      "cell_type": "markdown",
      "metadata": {
        "id": "rWZ5oozBfHYd"
      },
      "source": [
        "# Evaluation"
      ]
    },
    {
      "cell_type": "markdown",
      "metadata": {
        "id": "5uUXVVJ1fMtY"
      },
      "source": [
        "### On Training Set\n",
        "*(Accuracy suggests that the model has avoided overfitting along with learning)*"
      ]
    },
    {
      "cell_type": "code",
      "execution_count": null,
      "metadata": {
        "colab": {
          "base_uri": "https://localhost:8080/"
        },
        "id": "NzMOS5ucfL36",
        "outputId": "1bd0c5b9-f613-454a-93f1-51ae9cc2f451"
      },
      "outputs": [
        {
          "output_type": "stream",
          "name": "stdout",
          "text": [
            "750/750 [==============================] - 29s 39ms/step - loss: 0.5539 - accuracy: 0.7775\n"
          ]
        }
      ],
      "source": [
        "train_set_accuracy = model.evaluate(data_generator(batch_size,X1_train,X2_train,Y_train),batch_size=batch_size,steps=len(Y_val) // batch_size)"
      ]
    },
    {
      "cell_type": "code",
      "execution_count": null,
      "metadata": {
        "colab": {
          "base_uri": "https://localhost:8080/"
        },
        "id": "Um-MTnWbPVNd",
        "outputId": "82e6b1f5-2f9c-4163-dc76-427e267d028a"
      },
      "outputs": [
        {
          "output_type": "stream",
          "name": "stdout",
          "text": [
            "Training Set Accuracy is :  77.74999737739563\n"
          ]
        }
      ],
      "source": [
        "print(\"Training Set Accuracy is : \", train_set_accuracy[1]*100)"
      ]
    },
    {
      "cell_type": "markdown",
      "metadata": {
        "id": "pCirBOHRf2Bz"
      },
      "source": [
        "### On Validation Set\n",
        "*(Accuracy suggests how well the model has actually learnt)*"
      ]
    },
    {
      "cell_type": "code",
      "execution_count": null,
      "metadata": {
        "colab": {
          "base_uri": "https://localhost:8080/"
        },
        "id": "IEEGemvSX3R3",
        "outputId": "34911fde-39fc-4149-c548-408b93b02f91"
      },
      "outputs": [
        {
          "output_type": "stream",
          "name": "stdout",
          "text": [
            "750/750 [==============================] - 28s 37ms/step - loss: 0.5511 - accuracy: 0.7840\n"
          ]
        }
      ],
      "source": [
        "validation_set_accuracy=model.evaluate(data_generator(batch_size,X1_val,X2_val,Y_val),batch_size=batch_size,steps=len(Y_val) // batch_size)"
      ]
    },
    {
      "cell_type": "code",
      "execution_count": null,
      "metadata": {
        "colab": {
          "base_uri": "https://localhost:8080/"
        },
        "id": "qOZIQKhdYE0V",
        "outputId": "5c52003a-96e4-4134-d032-a327911e7b2e"
      },
      "outputs": [
        {
          "output_type": "stream",
          "name": "stdout",
          "text": [
            "Validation Set Accuracy =  78.39999794960022\n"
          ]
        }
      ],
      "source": [
        "print(\"Validation Set Accuracy = \",validation_set_accuracy[1]*100)"
      ]
    },
    {
      "cell_type": "markdown",
      "metadata": {
        "id": "FO2N2umggHXU"
      },
      "source": [
        "### On Dataset which is totally new for the model\n",
        "*(Expected Accuracy is very low, just to get an idea on how well the model has learnt)* <br> <br>\n",
        " \n",
        "This Accuracy is calculated based on threshold. Since the result are the probability (by sigmoid activation function), threshold using the **mean** of all the values gave comparatively better accuracy."
      ]
    },
    {
      "cell_type": "code",
      "execution_count": null,
      "metadata": {
        "id": "45LqJSKAbM1r"
      },
      "outputs": [],
      "source": [
        "test_preds = model.predict([returnImageList(set1_X1),returnImageList(set1_X2)])"
      ]
    },
    {
      "cell_type": "code",
      "execution_count": null,
      "metadata": {
        "id": "sU03saItgana"
      },
      "outputs": [],
      "source": [
        "def calculateAccuracy(Y,predictions,threshold): # Calculates Accuracy on a given threshold value\n",
        "    test_preds_final = []\n",
        "    for i in predictions:\n",
        "        if i[0]<0.35: test_preds_final.append(0)\n",
        "        else: test_preds_final.append(1)\n",
        "\n",
        "    counter=0\n",
        "    for i in range(0,len(set1_Y)):\n",
        "        if set1_Y[i] == test_preds_final[i]:\n",
        "            counter+=1\n",
        "    return counter*100/len(test_preds_final)"
      ]
    },
    {
      "cell_type": "code",
      "execution_count": null,
      "metadata": {
        "colab": {
          "base_uri": "https://localhost:8080/"
        },
        "id": "jlWR1k6hckcY",
        "outputId": "0c06d10d-7a37-43c1-8202-0a98e65a2c8e"
      },
      "outputs": [
        {
          "output_type": "stream",
          "name": "stdout",
          "text": [
            "0.29331684\n"
          ]
        }
      ],
      "source": [
        "mean = np.mean(test_preds)\n",
        "print(mean)"
      ]
    },
    {
      "cell_type": "code",
      "execution_count": null,
      "metadata": {
        "colab": {
          "base_uri": "https://localhost:8080/"
        },
        "id": "3PbLQJM_crRX",
        "outputId": "40749963-95a1-4cda-b91c-e45a9801d145"
      },
      "outputs": [
        {
          "output_type": "stream",
          "name": "stdout",
          "text": [
            "Accuracy gained by the totally new dataset is :  33.333333333333336\n"
          ]
        }
      ],
      "source": [
        "print(\"Accuracy gained by the totally new dataset is : \",calculateAccuracy(set1_Y,test_preds,np.mean(test_preds)))"
      ]
    },
    {
      "cell_type": "markdown",
      "source": [
        "# Saving our model"
      ],
      "metadata": {
        "id": "MBcupFM2rCnG"
      }
    },
    {
      "cell_type": "code",
      "execution_count": null,
      "metadata": {
        "id": "o7T2a3s-g-X2"
      },
      "outputs": [],
      "source": [
        "from tensorflow.keras.models import load_model\n",
        "\n",
        "model.save('forge_real_signature_model.h5')"
      ]
    }
  ],
  "metadata": {
    "accelerator": "GPU",
    "colab": {
      "collapsed_sections": [],
      "name": "Verificacion_de_firmas.ipynb",
      "provenance": []
    },
    "kernelspec": {
      "display_name": "Python 3",
      "language": "python",
      "name": "python3"
    },
    "language_info": {
      "codemirror_mode": {
        "name": "ipython",
        "version": 3
      },
      "file_extension": ".py",
      "mimetype": "text/x-python",
      "name": "python",
      "nbconvert_exporter": "python",
      "pygments_lexer": "ipython3",
      "version": "3.7.3"
    }
  },
  "nbformat": 4,
  "nbformat_minor": 0
}